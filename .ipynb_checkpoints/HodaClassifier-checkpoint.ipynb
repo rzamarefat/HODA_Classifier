{
 "cells": [
  {
   "cell_type": "code",
   "execution_count": 52,
   "id": "21059e20-f5a5-4b52-8dbd-3238a2583f1d",
   "metadata": {},
   "outputs": [
    {
     "ename": "ModuleNotFoundError",
     "evalue": "No module named 'DatasetLoader'",
     "output_type": "error",
     "traceback": [
      "\u001b[0;31m---------------------------------------------------------------------------\u001b[0m",
      "\u001b[0;31mModuleNotFoundError\u001b[0m                       Traceback (most recent call last)",
      "\u001b[0;32m/tmp/ipykernel_545122/2056739017.py\u001b[0m in \u001b[0;36m<module>\u001b[0;34m\u001b[0m\n\u001b[1;32m      1\u001b[0m \u001b[0;32mimport\u001b[0m \u001b[0mos\u001b[0m\u001b[0;34m\u001b[0m\u001b[0;34m\u001b[0m\u001b[0m\n\u001b[0;32m----> 2\u001b[0;31m \u001b[0;32mfrom\u001b[0m \u001b[0mDatasetLoader\u001b[0m \u001b[0;32mimport\u001b[0m \u001b[0mread_hoda_dataset\u001b[0m\u001b[0;34m\u001b[0m\u001b[0;34m\u001b[0m\u001b[0m\n\u001b[0m",
      "\u001b[0;31mModuleNotFoundError\u001b[0m: No module named 'DatasetLoader'"
     ]
    }
   ],
   "source": [
    "import os\n",
    "from DatasetLoader import read_hoda_dataset"
   ]
  },
  {
   "cell_type": "code",
   "execution_count": 49,
   "id": "15cdba13-fed2-4564-9b8d-1d7c3a5aa2df",
   "metadata": {},
   "outputs": [],
   "source": [
    "root = os.getcwd()\n",
    "DIR_TO_TRAIN_DATA = os.path.join(root, \"dataset\", \"Train.cdb\")\n",
    "DIR_TO_TEST_DATA = os.path.join(root, \"dataset\", \"Test.cdb\")"
   ]
  },
  {
   "cell_type": "code",
   "execution_count": 50,
   "id": "48330b56-a852-4b32-a993-ba4512b370f4",
   "metadata": {},
   "outputs": [
    {
     "name": "stdout",
     "output_type": "stream",
     "text": [
      "Reading train dataset (Train 60000.cdb)...\n"
     ]
    },
    {
     "ename": "NameError",
     "evalue": "name 'read_hoda_dataset' is not defined",
     "output_type": "error",
     "traceback": [
      "\u001b[0;31m---------------------------------------------------------------------------\u001b[0m",
      "\u001b[0;31mNameError\u001b[0m                                 Traceback (most recent call last)",
      "\u001b[0;32m/tmp/ipykernel_545122/2508657684.py\u001b[0m in \u001b[0;36m<module>\u001b[0;34m\u001b[0m\n\u001b[1;32m      1\u001b[0m \u001b[0mprint\u001b[0m\u001b[0;34m(\u001b[0m\u001b[0;34m'Reading train dataset (Train 60000.cdb)...'\u001b[0m\u001b[0;34m)\u001b[0m\u001b[0;34m\u001b[0m\u001b[0;34m\u001b[0m\u001b[0m\n\u001b[0;32m----> 2\u001b[0;31m X_train, y_train = read_hoda_dataset(dataset_path=DIR_TO_TRAIN_DATA,\n\u001b[0m\u001b[1;32m      3\u001b[0m                                 \u001b[0mimages_height\u001b[0m\u001b[0;34m=\u001b[0m\u001b[0;36m28\u001b[0m\u001b[0;34m,\u001b[0m\u001b[0;34m\u001b[0m\u001b[0;34m\u001b[0m\u001b[0m\n\u001b[1;32m      4\u001b[0m                                 \u001b[0mimages_width\u001b[0m\u001b[0;34m=\u001b[0m\u001b[0;36m28\u001b[0m\u001b[0;34m,\u001b[0m\u001b[0;34m\u001b[0m\u001b[0;34m\u001b[0m\u001b[0m\n\u001b[1;32m      5\u001b[0m                                 \u001b[0mone_hot\u001b[0m\u001b[0;34m=\u001b[0m\u001b[0;32mTrue\u001b[0m\u001b[0;34m,\u001b[0m\u001b[0;34m\u001b[0m\u001b[0;34m\u001b[0m\u001b[0m\n",
      "\u001b[0;31mNameError\u001b[0m: name 'read_hoda_dataset' is not defined"
     ]
    }
   ],
   "source": [
    "print('Reading train dataset (Train 60000.cdb)...')\n",
    "X_train, y_train = read_hoda_dataset(dataset_path=DIR_TO_TRAIN_DATA,\n",
    "                                images_height=28,\n",
    "                                images_width=28,\n",
    "                                one_hot=True,\n",
    "                                reshape=False)\n",
    "\n",
    "X_test, y_test = read_hoda_dataset(dataset_path=DIR_TO_TEST_DATA,\n",
    "                              images_height=28,\n",
    "                              images_width=28,\n",
    "                              one_hot=True,\n",
    "                              reshape=False)"
   ]
  },
  {
   "cell_type": "code",
   "execution_count": 45,
   "id": "90934f26-447d-45c6-aec7-6c2c73310dba",
   "metadata": {},
   "outputs": [
    {
     "data": {
      "text/plain": [
       "[]"
      ]
     },
     "execution_count": 45,
     "metadata": {},
     "output_type": "execute_result"
    }
   ],
   "source": []
  },
  {
   "cell_type": "code",
   "execution_count": null,
   "id": "e5894ada-1e28-43bd-91ac-aa246926320b",
   "metadata": {},
   "outputs": [],
   "source": []
  }
 ],
 "metadata": {
  "kernelspec": {
   "display_name": "Python 3 (ipykernel)",
   "language": "python",
   "name": "python3"
  },
  "language_info": {
   "codemirror_mode": {
    "name": "ipython",
    "version": 3
   },
   "file_extension": ".py",
   "mimetype": "text/x-python",
   "name": "python",
   "nbconvert_exporter": "python",
   "pygments_lexer": "ipython3",
   "version": "3.9.7"
  }
 },
 "nbformat": 4,
 "nbformat_minor": 5
}
